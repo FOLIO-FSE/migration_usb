{
 "cells": [
  {
   "cell_type": "markdown",
   "metadata": {},
   "source": [
    "# Calling the FOLIO API within Jupyter\n"
   ]
  },
  {
   "cell_type": "markdown",
   "metadata": {},
   "source": [
    "### Requirements\n",
    "\n",
    "1. Create `.env` or `.env.local` file\n",
    "2. Generate OKAPI token using `/authn/login-with-expiry`\n",
    "3. Add following params to `.env` file\n",
    "   ```\n",
    "   TENANT_ID=\"TENANT-ID-GOES-HERE\"\n",
    "   OKAPI_URL=\"https://okapi-DOMAINGOESHERE.folio.ebsco.com\"\n",
    "   USERNAME=\"USERNAME-GOES-HERE\"\n",
    "   PW=\"PASSWORD-GOES-HERE\"\n",
    "   ```\n",
    "4. Save file\n"
   ]
  },
  {
   "cell_type": "markdown",
   "metadata": {},
   "source": [
    "### 🚨 IMPORTANT 🚨\n",
    "\n",
    "- `.env` and `.env.local` are listed in `.gitignore`. Even so, be **VERY** careful to **NOT** commit your username and password to GitHub!\n",
    "- If you change the env variables after running the notebook, you need to RESTART the notebook to load the new env variables.\n"
   ]
  },
  {
   "cell_type": "code",
   "execution_count": 11,
   "metadata": {},
   "outputs": [],
   "source": [
    "import httpx\n",
    "import os\n",
    "import dotenv\n",
    "import json\n",
    "\n",
    "dotenv.load_dotenv(\"../.env.local\")\n",
    "env = os.environ\n",
    "\n",
    "headers = {\n",
    "    \"x-okapi-tenant\": env[\"TENANT_ID\"],\n",
    "    \"Content-Type\": \"application/json\",\n",
    "}"
   ]
  },
  {
   "cell_type": "code",
   "execution_count": 12,
   "metadata": {},
   "outputs": [],
   "source": [
    "# Authenticates with API, creates auth cookies\n",
    "auth = httpx.post(\n",
    "    env[\"OKAPI_URL\"]+\"/authn/login-with-expiry\",\n",
    "    headers=headers,\n",
    "    data=json.dumps(\n",
    "        {\n",
    "            \"username\": env[\"USERNAME\"],\n",
    "            \"password\": env[\"PW\"]\n",
    "        }\n",
    "    )\n",
    ")\n"
   ]
  },
  {
   "cell_type": "code",
   "execution_count": 13,
   "metadata": {},
   "outputs": [],
   "source": [
    "# Example call that gets the number of instances in a tenant\n",
    "resp = httpx.get(\n",
    "    env[\"OKAPI_URL\"] + \"/instance-storage/instances\",\n",
    "    headers=headers,\n",
    "    cookies=auth.cookies,\n",
    "    params={\"limit\": 0},\n",
    ")\n",
    "\n",
    "# Handle errors.\n",
    "# To test this, remove the cookies parameter.\n",
    "if resp.status_code > 204:\n",
    "    raise Exception(f\"{resp.status_code}\\t{resp.text}\")"
   ]
  },
  {
   "cell_type": "code",
   "execution_count": 5,
   "metadata": {},
   "outputs": [
    {
     "name": "stdout",
     "output_type": "stream",
     "text": [
      "Response Status Code: 200\n",
      "Response Data: {'instances': [], 'totalRecords': 58449, 'resultInfo': {'totalRecords': 58449, 'facets': [], 'diagnostics': []}}\n"
     ]
    }
   ],
   "source": [
    "# How to view/use result of API call\n",
    "data = resp.json()\n",
    "status_code = resp.status_code\n",
    "\n",
    "print(f\"Response Status Code: {status_code}\")\n",
    "print(f\"Response Data: {data}\")"
   ]
  }
 ],
 "metadata": {
  "kernelspec": {
   "display_name": ".venv",
   "language": "python",
   "name": "python3"
  },
  "language_info": {
   "codemirror_mode": {
    "name": "ipython",
    "version": 3
   },
   "file_extension": ".py",
   "mimetype": "text/x-python",
   "name": "python",
   "nbconvert_exporter": "python",
   "pygments_lexer": "ipython3",
   "version": "3.9.12"
  }
 },
 "nbformat": 4,
 "nbformat_minor": 2
}
